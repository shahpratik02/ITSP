{
 "metadata": {
  "language_info": {
   "codemirror_mode": {
    "name": "ipython",
    "version": 3
   },
   "file_extension": ".py",
   "mimetype": "text/x-python",
   "name": "python",
   "nbconvert_exporter": "python",
   "pygments_lexer": "ipython3",
   "version": "3.9.6"
  },
  "orig_nbformat": 4,
  "kernelspec": {
   "name": "python3",
   "display_name": "Python 3.9.6 64-bit"
  },
  "interpreter": {
   "hash": "c2f2c10e8b0c6806d9d04e8d3a17761b4c554a55a9bbe8b591472136559041bf"
  }
 },
 "nbformat": 4,
 "nbformat_minor": 2,
 "cells": [
  {
   "cell_type": "code",
   "execution_count": 1,
   "source": [
    "import os\r\n",
    "import cv2\r\n",
    "import numpy as np\r\n",
    "import tensorflow\r\n",
    "from tensorflow import keras\r\n",
    "from keras.models import model_from_json\r\n",
    "from keras.preprocessing import image\r\n",
    "\r\n",
    "#load model\r\n",
    "model = keras.models.load_model(r\"D:\\programming\\ML\\project\\v3e16.h5\")\r\n",
    "\r\n",
    "\r\n",
    "face_haar_cascade = cv2.CascadeClassifier(r\"D:\\programming\\ML\\py-master\\py-master\\DataScience\\CelebrityFaceRecognition\\model\\opencv\\haarcascades\\haarcascade_frontalface_default.xml\")\r\n",
    "\r\n",
    "\r\n",
    "cap=cv2.VideoCapture(0)\r\n",
    "\r\n",
    "while True:\r\n",
    "    ret,test_img=cap.read()# captures frame and returns boolean value and captured image\r\n",
    "    if not ret:\r\n",
    "        continue\r\n",
    "    gray_img= cv2.cvtColor(test_img, cv2.COLOR_BGR2GRAY)\r\n",
    "\r\n",
    "    faces_detected = face_haar_cascade.detectMultiScale(gray_img, 1.32, 5)\r\n",
    "\r\n",
    "\r\n",
    "    for (x,y,w,h) in faces_detected:\r\n",
    "        cv2.rectangle(test_img,(x,y),(x+w,y+h),(255,0,0),thickness=7)\r\n",
    "        roi_gray=gray_img[y:y+w,x:x+h]#cropping region of interest i.e. face area from  image\r\n",
    "        roi_clr=test_img[y:y+w,x:x+h]\r\n",
    "        roi_clr=cv2.resize(roi_clr,(224,224))\r\n",
    "        img_pixels = image.img_to_array(roi_clr)\r\n",
    "        img_pixels = np.expand_dims(img_pixels, axis = 0)\r\n",
    "        \r\n",
    "\r\n",
    "        predictions = model.predict(img_pixels)\r\n",
    "\r\n",
    "        #find max indexed array\r\n",
    "        max_index = np.argmax(predictions[0])\r\n",
    "\r\n",
    "        emotions = ('angry', 'disgust', 'fear', 'happy', 'sad', 'surprise', 'neutral')\r\n",
    "        predicted_emotion = emotions[max_index]\r\n",
    "\r\n",
    "        cv2.putText(test_img, predicted_emotion, (int(x), int(y)), cv2.FONT_HERSHEY_SIMPLEX, 1, (0,0,255), 2)\r\n",
    "\r\n",
    "    resized_img = cv2.resize(test_img, (1000, 700))\r\n",
    "    cv2.imshow('Facial emotion analysis ',resized_img)\r\n",
    "\r\n",
    "\r\n",
    "\r\n",
    "    if cv2.waitKey(10) == ord('q'):#wait until 'q' key is pressed\r\n",
    "        break\r\n",
    "\r\n",
    "cap.release()\r\n",
    "cv2.destroyAllWindows"
   ],
   "outputs": [
    {
     "output_type": "execute_result",
     "data": {
      "text/plain": [
       "<function destroyAllWindows>"
      ]
     },
     "metadata": {},
     "execution_count": 1
    }
   ],
   "metadata": {}
  },
  {
   "cell_type": "code",
   "execution_count": null,
   "source": [],
   "outputs": [],
   "metadata": {}
  }
 ]
}